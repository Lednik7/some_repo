{
  "nbformat": 4,
  "nbformat_minor": 0,
  "metadata": {
    "colab": {
      "name": "catboost.ipynb",
      "provenance": [],
      "collapsed_sections": []
    },
    "kernelspec": {
      "name": "python3",
      "display_name": "Python 3"
    },
    "language_info": {
      "name": "python"
    }
  },
  "cells": [
    {
      "cell_type": "code",
      "execution_count": 1,
      "metadata": {
        "id": "si6RJuIywdn7"
      },
      "outputs": [],
      "source": [
        "%%capture\n",
        "!wget -O data.zip --no-check-certificate https://diskcitylink.pro/arj/vFkdaTX\n",
        "!unzip data.zip\n",
        "!pip install catboost"
      ]
    },
    {
      "cell_type": "code",
      "source": [
        "import pandas as pd\n",
        "import numpy as np\n",
        "from sklearn.model_selection import train_test_split\n",
        "from catboost import CatBoostClassifier\n",
        "from sklearn.feature_extraction.text import TfidfVectorizer, CountVectorizer\n",
        "from sklearn.metrics import roc_auc_score\n",
        "import matplotlib.pyplot as plt\n",
        "from multiprocessing import cpu_count\n",
        "from gensim.models.word2vec import Word2Vec"
      ],
      "metadata": {
        "id": "ARrKTEUXw-UB"
      },
      "execution_count": 1,
      "outputs": []
    },
    {
      "cell_type": "code",
      "source": [
        "def date_to_data(frame, drop=False, name=\"event_date\", suffix=\"\"):\n",
        "    assert name in frame, \"Нужна колонка с датой\"\n",
        "    date = frame[name].dt\n",
        "\n",
        "    info = pd.concat([date.days_in_month,\n",
        "                    date.month,\n",
        "                    date.quarter,\n",
        "                    date.dayofyear,\n",
        "                    date.hour,\n",
        "                    date.minute], axis=1)\n",
        "\n",
        "    info.columns = [\"days_in_month\", \"month\", \"quarter\",\n",
        "                    \"dayofyear\", \"hour\", \"minute\"]\n",
        "\n",
        "    temp = pd.concat([date.isocalendar(), info], axis=1)\n",
        "\n",
        "    temp.columns = temp.columns + suffix\n",
        "    frame = pd.concat([frame, temp], axis=1)\n",
        "    if drop:\n",
        "        return frame.drop([name, \"year\" + suffix], axis=1)\n",
        "    return frame"
      ],
      "metadata": {
        "id": "AQVHRJT9yrpk"
      },
      "execution_count": 2,
      "outputs": []
    },
    {
      "cell_type": "code",
      "source": [
        "all_users = pd.read_csv(\"01_all_users.csv\")\n",
        "events_log = pd.read_csv(\"02_events_log.csv\")\n",
        "lk_events_log = pd.read_csv(\"03_lk_events_log.csv\")\n",
        "is_blocked = pd.read_csv(\"04_is_blocked.csv\")\n",
        "\n",
        "events_log[\"event_date\"] = pd.to_datetime(events_log[\"event_date\"])\n",
        "events_log = events_log.sort_values(by=[\"event_date\"]).reset_index(drop=True)\n",
        "\n",
        "lk_events_log[\"event_date\"] = pd.to_datetime(lk_events_log[\"event_date\"])\n",
        "lk_events_log = lk_events_log.sort_values(by=\"event_date\").reset_index(drop=True)\n",
        "\n",
        "events_log = date_to_data(events_log, drop=True, suffix=\"_events_log\")\n",
        "events_log[\"contract_id\"] = events_log[\"contract_id\"].astype(np.int32)\n",
        "\n",
        "lk_events_log = date_to_data(lk_events_log, drop=True, suffix=\"_lk_events_log\")\n",
        "lk_events_log[\"contract_id\"] = lk_events_log[\"contract_id\"].astype(np.int32)"
      ],
      "metadata": {
        "id": "S3C6GqRyxApR"
      },
      "execution_count": 3,
      "outputs": []
    },
    {
      "cell_type": "code",
      "source": [
        "# events_log = events_log.drop([\"event_date\"], axis=1)\n",
        "# lk_events_log = lk_events_log.drop([\"event_date\"], axis=1)"
      ],
      "metadata": {
        "id": "ObDmLHpR8npP"
      },
      "execution_count": 4,
      "outputs": []
    },
    {
      "cell_type": "code",
      "source": [
        "df = all_users.merge(is_blocked, on=[\"contract_id\"], how=\"left\").dropna()\n",
        "df[\"contract_id\"] = df[\"contract_id\"].astype(np.int32)\n",
        "df[\"blocked\"] = df[\"blocked\"].astype(np.int32)"
      ],
      "metadata": {
        "id": "nuKDL1K9xRl4"
      },
      "execution_count": 5,
      "outputs": []
    },
    {
      "cell_type": "code",
      "source": [
        "events_log_temp = events_log[[\"contract_id\", \"event_type\"]].groupby(\"contract_id\").agg(list)\n",
        "events_log_event_type_dict = {j:i for i, j in enumerate(sorted(events_log[\"event_type\"].unique()))}\n",
        "events_log_temp[\"event_type_len\"] = events_log_temp[\"event_type\"].apply(lambda x: len(x))\n",
        "events_log_temp[\"event_type_set\"] = events_log_temp[\"event_type\"].apply(lambda x: len(set(x)))\n",
        "events_log_temp[\"event_type_diff\"] = events_log_temp[\"event_type_len\"] - events_log_temp[\"event_type_set\"]\n",
        "events_log_temp[\"event_type\"] = events_log_temp[\"event_type\"].apply(lambda x: \" \".join(str(events_log_event_type_dict[i]) for i in x))\n",
        "\n",
        "data = events_log_temp[\"event_type\"].apply(lambda x: x.split()).to_list()\n",
        "# Training the Word2Vec model\n",
        "w2v_model = Word2Vec(data, min_count=0, workers=cpu_count(), size=100)\n",
        "w2v_df_ev = [np.mean([w2v_model.wv[i] for i in j], axis=0) for j in data]\n",
        "w2v_df_ev = pd.DataFrame(w2v_df_ev, columns=[f\"{i}_ev\" for i in range(len(w2v_df_ev[0]))])\n",
        "\n",
        "vectorizer = CountVectorizer()\n",
        "X = vectorizer.fit_transform(events_log_temp[\"event_type\"])\n",
        "events_log_tfidf = pd.DataFrame(X.toarray(), columns=vectorizer.get_feature_names_out())\n",
        "events_log_tfidf.columns +=  \"_events_log_tfidf\"\n",
        "events_log_temp = pd.concat([events_log_temp.reset_index(), events_log_tfidf, w2v_df_ev], axis=1)\n",
        "events_log_temp = events_log_temp.set_index(\"contract_id\")\n",
        "\n",
        "events_log = events_log.merge(events_log_temp, on=\"contract_id\", how=\"left\")\n",
        "events_log = events_log.drop([\"event_type_x\", \"event_type_y\"], axis=1)\n",
        "events_log = events_log.drop_duplicates()"
      ],
      "metadata": {
        "id": "A3AU362ixS2V"
      },
      "execution_count": 6,
      "outputs": []
    },
    {
      "cell_type": "code",
      "source": [
        "lk_events_log_temp = lk_events_log[[\"contract_id\", \"name\"]].groupby(\"contract_id\").agg(list)\n",
        "lk_events_log_event_type_dict = {j:i for i, j in enumerate(sorted(lk_events_log[\"name\"].unique()))}\n",
        "lk_events_log_temp[\"event_type_len\"] = lk_events_log_temp[\"name\"].apply(lambda x: len(x))\n",
        "lk_events_log_temp[\"event_type_set\"] = lk_events_log_temp[\"name\"].apply(lambda x: len(set(x)))\n",
        "lk_events_log_temp[\"event_type_diff\"] = lk_events_log_temp[\"event_type_len\"] - lk_events_log_temp[\"event_type_set\"]\n",
        "lk_events_log_temp[\"event_type\"] = lk_events_log_temp[\"name\"].apply(lambda x: \" \".join(str(lk_events_log_event_type_dict[i]) for i in x))\n",
        "\n",
        "data = lk_events_log_temp[\"event_type\"].apply(lambda x: x.split()).to_list()\n",
        "# Training the Word2Vec model\n",
        "w2v_model = Word2Vec(data, min_count=0, workers=cpu_count(), size=100)\n",
        "w2v_df_lk = [np.mean([w2v_model.wv[i] for i in j], axis=0) for j in data]\n",
        "w2v_df_lk = pd.DataFrame(w2v_df_lk, columns=[f\"{i}_ev\" for i in range(len(w2v_df_lk[0]))])\n",
        "\n",
        "vectorizer = CountVectorizer()\n",
        "X = vectorizer.fit_transform(lk_events_log_temp[\"event_type\"])\n",
        "lk_events_log_tfidf = pd.DataFrame(X.toarray(), columns=vectorizer.get_feature_names_out())\n",
        "lk_events_log_tfidf.columns +=  \"_lk_events_log_tfidf\"\n",
        "lk_events_log_temp = pd.concat([lk_events_log_temp.reset_index(), lk_events_log_tfidf, w2v_df_lk], axis=1)\n",
        "lk_events_log_temp = lk_events_log_temp.set_index(\"contract_id\")\n",
        "\n",
        "lk_events_log = lk_events_log.merge(lk_events_log_temp, on=\"contract_id\", how=\"left\")\n",
        "lk_events_log = lk_events_log.drop([\"name_x\", \"name_y\", \"event_type\"], axis=1)\n",
        "lk_events_log = lk_events_log.drop_duplicates()"
      ],
      "metadata": {
        "id": "VKgjWbmm3syO"
      },
      "execution_count": 7,
      "outputs": []
    },
    {
      "cell_type": "code",
      "source": [
        "lk_events_log.columns = lk_events_log.columns + \"_lk_events_log\"\n",
        "lk_events_log.columns = [\"contract_id\", *lk_events_log.columns[1:]]"
      ],
      "metadata": {
        "id": "Qbv2-fZoBIeK"
      },
      "execution_count": 8,
      "outputs": []
    },
    {
      "cell_type": "code",
      "source": [
        "events_log.columns = events_log.columns + \"_events_log\"\n",
        "events_log.columns = [\"contract_id\", *events_log.columns[1:]]"
      ],
      "metadata": {
        "id": "zY-nM2JvBHhf"
      },
      "execution_count": 9,
      "outputs": []
    },
    {
      "cell_type": "code",
      "source": [
        "lk_events_log = lk_events_log.groupby(\"contract_id\").agg([\"mean\", \"median\", \"min\", \"max\", \"var\", \"std\"])\n",
        "lk_events_log.columns = [\"_\".join(i) for i in lk_events_log]"
      ],
      "metadata": {
        "id": "q2z-Vnuc9_qT"
      },
      "execution_count": 10,
      "outputs": []
    },
    {
      "cell_type": "code",
      "source": [
        "events_log = events_log.groupby(\"contract_id\").agg([\"mean\", \"median\", \"min\", \"max\", \"var\", \"std\"])\n",
        "events_log.columns = [\"_\".join(i) for i in events_log]"
      ],
      "metadata": {
        "id": "LaAiVJf9AQON"
      },
      "execution_count": 11,
      "outputs": []
    },
    {
      "cell_type": "code",
      "source": [
        "df = df.merge(lk_events_log, on=\"contract_id\", how=\"left\")\\\n",
        "                .merge(events_log, on=\"contract_id\", how=\"left\")"
      ],
      "metadata": {
        "id": "pKcYN3cL5SrJ"
      },
      "execution_count": 12,
      "outputs": []
    },
    {
      "cell_type": "code",
      "source": [
        "df[df.columns[3:]] = df[df.columns[3:]].astype(np.float32)"
      ],
      "metadata": {
        "id": "Wa6o9iQDCJHi"
      },
      "execution_count": 13,
      "outputs": []
    },
    {
      "cell_type": "code",
      "source": [
        "df = df.drop([\"contract_id\"], axis=1).drop_duplicates()"
      ],
      "metadata": {
        "id": "1pU9ovLNQPrq"
      },
      "execution_count": 14,
      "outputs": []
    },
    {
      "cell_type": "code",
      "source": [
        "X, y = df.drop([\"blocked\"], axis=1), df[\"blocked\"]\n",
        "X_train, X_test, y_train, y_test = train_test_split(X, y,\n",
        "                                                    test_size=0.01,\n",
        "                                                    random_state=42,\n",
        "                                                    shuffle=True)"
      ],
      "metadata": {
        "id": "UE5Fc6vh7bm-"
      },
      "execution_count": 15,
      "outputs": []
    },
    {
      "cell_type": "code",
      "source": [
        "model = CatBoostClassifier(iterations=150,\n",
        "                           random_state=42,\n",
        "                           verbose=1,\n",
        "                           learning_rate=0.1,\n",
        "                           eval_metric=\"AUC\",\n",
        "                           task_type=\"CPU\",\n",
        "                           score_function=\"Cosine\",\n",
        "                           max_depth=3)"
      ],
      "metadata": {
        "id": "4umc59tDB91S"
      },
      "execution_count": 16,
      "outputs": []
    },
    {
      "cell_type": "code",
      "source": [
        "model.fit(X_train, y_train, eval_set=(X_test, y_test))"
      ],
      "metadata": {
        "colab": {
          "base_uri": "https://localhost:8080/"
        },
        "id": "V679scaiCCwA",
        "outputId": "80ed1f4a-f8a8-4bbf-c5a7-c6d22f5bfd4c"
      },
      "execution_count": 17,
      "outputs": [
        {
          "output_type": "stream",
          "name": "stdout",
          "text": [
            "0:\ttest: 0.7849265\tbest: 0.7849265 (0)\ttotal: 217ms\tremaining: 32.3s\n",
            "1:\ttest: 0.8125000\tbest: 0.8125000 (1)\ttotal: 310ms\tremaining: 22.9s\n",
            "2:\ttest: 0.8455882\tbest: 0.8455882 (2)\ttotal: 404ms\tremaining: 19.8s\n",
            "3:\ttest: 0.8143382\tbest: 0.8455882 (2)\ttotal: 520ms\tremaining: 19s\n",
            "4:\ttest: 0.8511029\tbest: 0.8511029 (4)\ttotal: 601ms\tremaining: 17.4s\n",
            "5:\ttest: 0.8529412\tbest: 0.8529412 (5)\ttotal: 681ms\tremaining: 16.3s\n",
            "6:\ttest: 0.8455882\tbest: 0.8529412 (5)\ttotal: 765ms\tremaining: 15.6s\n",
            "7:\ttest: 0.8694853\tbest: 0.8694853 (7)\ttotal: 843ms\tremaining: 15s\n",
            "8:\ttest: 0.8805147\tbest: 0.8805147 (8)\ttotal: 926ms\tremaining: 14.5s\n",
            "9:\ttest: 0.8915441\tbest: 0.8915441 (9)\ttotal: 1s\tremaining: 14.1s\n",
            "10:\ttest: 0.8952206\tbest: 0.8952206 (10)\ttotal: 1.09s\tremaining: 13.8s\n",
            "11:\ttest: 0.8915441\tbest: 0.8952206 (10)\ttotal: 1.17s\tremaining: 13.5s\n",
            "12:\ttest: 0.8915441\tbest: 0.8952206 (10)\ttotal: 1.26s\tremaining: 13.3s\n",
            "13:\ttest: 0.8805147\tbest: 0.8952206 (10)\ttotal: 1.33s\tremaining: 12.9s\n",
            "14:\ttest: 0.8731618\tbest: 0.8952206 (10)\ttotal: 1.42s\tremaining: 12.7s\n",
            "15:\ttest: 0.8676471\tbest: 0.8952206 (10)\ttotal: 1.5s\tremaining: 12.6s\n",
            "16:\ttest: 0.8860294\tbest: 0.8952206 (10)\ttotal: 1.59s\tremaining: 12.5s\n",
            "17:\ttest: 0.8897059\tbest: 0.8952206 (10)\ttotal: 1.66s\tremaining: 12.2s\n",
            "18:\ttest: 0.8933824\tbest: 0.8952206 (10)\ttotal: 1.75s\tremaining: 12.1s\n",
            "19:\ttest: 0.9007353\tbest: 0.9007353 (19)\ttotal: 1.83s\tremaining: 11.9s\n",
            "20:\ttest: 0.9080882\tbest: 0.9080882 (20)\ttotal: 1.91s\tremaining: 11.7s\n",
            "21:\ttest: 0.9080882\tbest: 0.9080882 (20)\ttotal: 1.99s\tremaining: 11.6s\n",
            "22:\ttest: 0.9117647\tbest: 0.9117647 (22)\ttotal: 2.07s\tremaining: 11.4s\n",
            "23:\ttest: 0.9117647\tbest: 0.9117647 (22)\ttotal: 2.15s\tremaining: 11.3s\n",
            "24:\ttest: 0.9117647\tbest: 0.9117647 (22)\ttotal: 2.23s\tremaining: 11.2s\n",
            "25:\ttest: 0.9154412\tbest: 0.9154412 (25)\ttotal: 2.31s\tremaining: 11s\n",
            "26:\ttest: 0.9154412\tbest: 0.9154412 (25)\ttotal: 2.4s\tremaining: 10.9s\n",
            "27:\ttest: 0.9154412\tbest: 0.9154412 (25)\ttotal: 2.51s\tremaining: 10.9s\n",
            "28:\ttest: 0.9154412\tbest: 0.9154412 (25)\ttotal: 2.64s\tremaining: 11s\n",
            "29:\ttest: 0.9191176\tbest: 0.9191176 (29)\ttotal: 2.75s\tremaining: 11s\n",
            "30:\ttest: 0.9191176\tbest: 0.9191176 (29)\ttotal: 2.87s\tremaining: 11s\n",
            "31:\ttest: 0.9191176\tbest: 0.9191176 (29)\ttotal: 2.99s\tremaining: 11s\n",
            "32:\ttest: 0.9154412\tbest: 0.9191176 (29)\ttotal: 3.1s\tremaining: 11s\n",
            "33:\ttest: 0.9154412\tbest: 0.9191176 (29)\ttotal: 3.22s\tremaining: 11s\n",
            "34:\ttest: 0.9154412\tbest: 0.9191176 (29)\ttotal: 3.34s\tremaining: 11s\n",
            "35:\ttest: 0.9154412\tbest: 0.9191176 (29)\ttotal: 3.45s\tremaining: 10.9s\n",
            "36:\ttest: 0.9227941\tbest: 0.9227941 (36)\ttotal: 3.58s\tremaining: 10.9s\n",
            "37:\ttest: 0.9191176\tbest: 0.9227941 (36)\ttotal: 3.71s\tremaining: 10.9s\n",
            "38:\ttest: 0.9191176\tbest: 0.9227941 (36)\ttotal: 3.82s\tremaining: 10.9s\n",
            "39:\ttest: 0.9191176\tbest: 0.9227941 (36)\ttotal: 3.93s\tremaining: 10.8s\n",
            "40:\ttest: 0.9264706\tbest: 0.9264706 (40)\ttotal: 4.03s\tremaining: 10.7s\n",
            "41:\ttest: 0.9338235\tbest: 0.9338235 (41)\ttotal: 4.15s\tremaining: 10.7s\n",
            "42:\ttest: 0.9264706\tbest: 0.9338235 (41)\ttotal: 4.26s\tremaining: 10.6s\n",
            "43:\ttest: 0.9375000\tbest: 0.9375000 (43)\ttotal: 4.37s\tremaining: 10.5s\n",
            "44:\ttest: 0.9375000\tbest: 0.9375000 (43)\ttotal: 4.44s\tremaining: 10.4s\n",
            "45:\ttest: 0.9375000\tbest: 0.9375000 (43)\ttotal: 4.5s\tremaining: 10.2s\n",
            "46:\ttest: 0.9375000\tbest: 0.9375000 (43)\ttotal: 4.57s\tremaining: 10s\n",
            "47:\ttest: 0.9375000\tbest: 0.9375000 (43)\ttotal: 4.64s\tremaining: 9.86s\n",
            "48:\ttest: 0.9448529\tbest: 0.9448529 (48)\ttotal: 4.72s\tremaining: 9.73s\n",
            "49:\ttest: 0.9485294\tbest: 0.9485294 (49)\ttotal: 4.79s\tremaining: 9.59s\n",
            "50:\ttest: 0.9448529\tbest: 0.9485294 (49)\ttotal: 4.86s\tremaining: 9.44s\n",
            "51:\ttest: 0.9448529\tbest: 0.9485294 (49)\ttotal: 4.93s\tremaining: 9.29s\n",
            "52:\ttest: 0.9485294\tbest: 0.9485294 (49)\ttotal: 5s\tremaining: 9.15s\n",
            "53:\ttest: 0.9485294\tbest: 0.9485294 (49)\ttotal: 5.07s\tremaining: 9.02s\n",
            "54:\ttest: 0.9448529\tbest: 0.9485294 (49)\ttotal: 5.14s\tremaining: 8.88s\n",
            "55:\ttest: 0.9448529\tbest: 0.9485294 (49)\ttotal: 5.21s\tremaining: 8.75s\n",
            "56:\ttest: 0.9448529\tbest: 0.9485294 (49)\ttotal: 5.28s\tremaining: 8.61s\n",
            "57:\ttest: 0.9411765\tbest: 0.9485294 (49)\ttotal: 5.35s\tremaining: 8.48s\n",
            "58:\ttest: 0.9411765\tbest: 0.9485294 (49)\ttotal: 5.42s\tremaining: 8.36s\n",
            "59:\ttest: 0.9411765\tbest: 0.9485294 (49)\ttotal: 5.48s\tremaining: 8.22s\n",
            "60:\ttest: 0.9411765\tbest: 0.9485294 (49)\ttotal: 5.56s\tremaining: 8.11s\n",
            "61:\ttest: 0.9411765\tbest: 0.9485294 (49)\ttotal: 5.63s\tremaining: 7.99s\n",
            "62:\ttest: 0.9448529\tbest: 0.9485294 (49)\ttotal: 5.69s\tremaining: 7.86s\n",
            "63:\ttest: 0.9448529\tbest: 0.9485294 (49)\ttotal: 5.77s\tremaining: 7.75s\n",
            "64:\ttest: 0.9448529\tbest: 0.9485294 (49)\ttotal: 5.84s\tremaining: 7.64s\n",
            "65:\ttest: 0.9448529\tbest: 0.9485294 (49)\ttotal: 5.91s\tremaining: 7.53s\n",
            "66:\ttest: 0.9448529\tbest: 0.9485294 (49)\ttotal: 5.98s\tremaining: 7.41s\n",
            "67:\ttest: 0.9411765\tbest: 0.9485294 (49)\ttotal: 6.05s\tremaining: 7.3s\n",
            "68:\ttest: 0.9411765\tbest: 0.9485294 (49)\ttotal: 6.12s\tremaining: 7.19s\n",
            "69:\ttest: 0.9411765\tbest: 0.9485294 (49)\ttotal: 6.19s\tremaining: 7.07s\n",
            "70:\ttest: 0.9411765\tbest: 0.9485294 (49)\ttotal: 6.26s\tremaining: 6.97s\n",
            "71:\ttest: 0.9411765\tbest: 0.9485294 (49)\ttotal: 6.33s\tremaining: 6.85s\n",
            "72:\ttest: 0.9485294\tbest: 0.9485294 (49)\ttotal: 6.39s\tremaining: 6.75s\n",
            "73:\ttest: 0.9522059\tbest: 0.9522059 (73)\ttotal: 6.46s\tremaining: 6.64s\n",
            "74:\ttest: 0.9522059\tbest: 0.9522059 (73)\ttotal: 6.54s\tremaining: 6.54s\n",
            "75:\ttest: 0.9522059\tbest: 0.9522059 (73)\ttotal: 6.6s\tremaining: 6.43s\n",
            "76:\ttest: 0.9522059\tbest: 0.9522059 (73)\ttotal: 6.67s\tremaining: 6.32s\n",
            "77:\ttest: 0.9522059\tbest: 0.9522059 (73)\ttotal: 6.75s\tremaining: 6.23s\n",
            "78:\ttest: 0.9522059\tbest: 0.9522059 (73)\ttotal: 6.82s\tremaining: 6.13s\n",
            "79:\ttest: 0.9522059\tbest: 0.9522059 (73)\ttotal: 6.88s\tremaining: 6.02s\n",
            "80:\ttest: 0.9595588\tbest: 0.9595588 (80)\ttotal: 6.95s\tremaining: 5.92s\n",
            "81:\ttest: 0.9595588\tbest: 0.9595588 (80)\ttotal: 7.02s\tremaining: 5.82s\n",
            "82:\ttest: 0.9595588\tbest: 0.9595588 (80)\ttotal: 7.09s\tremaining: 5.72s\n",
            "83:\ttest: 0.9632353\tbest: 0.9632353 (83)\ttotal: 7.16s\tremaining: 5.63s\n",
            "84:\ttest: 0.9632353\tbest: 0.9632353 (83)\ttotal: 7.23s\tremaining: 5.53s\n",
            "85:\ttest: 0.9558824\tbest: 0.9632353 (83)\ttotal: 7.3s\tremaining: 5.43s\n",
            "86:\ttest: 0.9522059\tbest: 0.9632353 (83)\ttotal: 7.37s\tremaining: 5.33s\n",
            "87:\ttest: 0.9522059\tbest: 0.9632353 (83)\ttotal: 7.43s\tremaining: 5.24s\n",
            "88:\ttest: 0.9595588\tbest: 0.9632353 (83)\ttotal: 7.5s\tremaining: 5.14s\n",
            "89:\ttest: 0.9595588\tbest: 0.9632353 (83)\ttotal: 7.57s\tremaining: 5.05s\n",
            "90:\ttest: 0.9595588\tbest: 0.9632353 (83)\ttotal: 7.65s\tremaining: 4.96s\n",
            "91:\ttest: 0.9595588\tbest: 0.9632353 (83)\ttotal: 7.72s\tremaining: 4.86s\n",
            "92:\ttest: 0.9669118\tbest: 0.9669118 (92)\ttotal: 7.79s\tremaining: 4.78s\n",
            "93:\ttest: 0.9669118\tbest: 0.9669118 (92)\ttotal: 7.86s\tremaining: 4.68s\n",
            "94:\ttest: 0.9669118\tbest: 0.9669118 (92)\ttotal: 7.93s\tremaining: 4.59s\n",
            "95:\ttest: 0.9669118\tbest: 0.9669118 (92)\ttotal: 8s\tremaining: 4.5s\n",
            "96:\ttest: 0.9669118\tbest: 0.9669118 (92)\ttotal: 8.07s\tremaining: 4.41s\n",
            "97:\ttest: 0.9632353\tbest: 0.9669118 (92)\ttotal: 8.14s\tremaining: 4.32s\n",
            "98:\ttest: 0.9632353\tbest: 0.9669118 (92)\ttotal: 8.21s\tremaining: 4.23s\n",
            "99:\ttest: 0.9632353\tbest: 0.9669118 (92)\ttotal: 8.29s\tremaining: 4.14s\n",
            "100:\ttest: 0.9632353\tbest: 0.9669118 (92)\ttotal: 8.36s\tremaining: 4.05s\n",
            "101:\ttest: 0.9632353\tbest: 0.9669118 (92)\ttotal: 8.42s\tremaining: 3.96s\n",
            "102:\ttest: 0.9632353\tbest: 0.9669118 (92)\ttotal: 8.49s\tremaining: 3.88s\n",
            "103:\ttest: 0.9632353\tbest: 0.9669118 (92)\ttotal: 8.57s\tremaining: 3.79s\n",
            "104:\ttest: 0.9632353\tbest: 0.9669118 (92)\ttotal: 8.63s\tremaining: 3.7s\n",
            "105:\ttest: 0.9632353\tbest: 0.9669118 (92)\ttotal: 8.71s\tremaining: 3.61s\n",
            "106:\ttest: 0.9632353\tbest: 0.9669118 (92)\ttotal: 8.78s\tremaining: 3.53s\n",
            "107:\ttest: 0.9632353\tbest: 0.9669118 (92)\ttotal: 8.85s\tremaining: 3.44s\n",
            "108:\ttest: 0.9632353\tbest: 0.9669118 (92)\ttotal: 8.92s\tremaining: 3.35s\n",
            "109:\ttest: 0.9632353\tbest: 0.9669118 (92)\ttotal: 9s\tremaining: 3.27s\n",
            "110:\ttest: 0.9632353\tbest: 0.9669118 (92)\ttotal: 9.06s\tremaining: 3.19s\n",
            "111:\ttest: 0.9632353\tbest: 0.9669118 (92)\ttotal: 9.14s\tremaining: 3.1s\n",
            "112:\ttest: 0.9632353\tbest: 0.9669118 (92)\ttotal: 9.2s\tremaining: 3.01s\n",
            "113:\ttest: 0.9632353\tbest: 0.9669118 (92)\ttotal: 9.27s\tremaining: 2.93s\n",
            "114:\ttest: 0.9632353\tbest: 0.9669118 (92)\ttotal: 9.34s\tremaining: 2.84s\n",
            "115:\ttest: 0.9669118\tbest: 0.9669118 (92)\ttotal: 9.41s\tremaining: 2.76s\n",
            "116:\ttest: 0.9669118\tbest: 0.9669118 (92)\ttotal: 9.48s\tremaining: 2.67s\n",
            "117:\ttest: 0.9669118\tbest: 0.9669118 (92)\ttotal: 9.55s\tremaining: 2.59s\n",
            "118:\ttest: 0.9669118\tbest: 0.9669118 (92)\ttotal: 9.62s\tremaining: 2.5s\n",
            "119:\ttest: 0.9669118\tbest: 0.9669118 (92)\ttotal: 9.69s\tremaining: 2.42s\n",
            "120:\ttest: 0.9669118\tbest: 0.9669118 (92)\ttotal: 9.75s\tremaining: 2.34s\n",
            "121:\ttest: 0.9669118\tbest: 0.9669118 (92)\ttotal: 9.83s\tremaining: 2.26s\n",
            "122:\ttest: 0.9669118\tbest: 0.9669118 (92)\ttotal: 9.9s\tremaining: 2.17s\n",
            "123:\ttest: 0.9669118\tbest: 0.9669118 (92)\ttotal: 9.97s\tremaining: 2.09s\n",
            "124:\ttest: 0.9669118\tbest: 0.9669118 (92)\ttotal: 10s\tremaining: 2.01s\n",
            "125:\ttest: 0.9669118\tbest: 0.9669118 (92)\ttotal: 10.1s\tremaining: 1.93s\n",
            "126:\ttest: 0.9669118\tbest: 0.9669118 (92)\ttotal: 10.2s\tremaining: 1.84s\n",
            "127:\ttest: 0.9669118\tbest: 0.9669118 (92)\ttotal: 10.3s\tremaining: 1.76s\n",
            "128:\ttest: 0.9669118\tbest: 0.9669118 (92)\ttotal: 10.3s\tremaining: 1.68s\n",
            "129:\ttest: 0.9669118\tbest: 0.9669118 (92)\ttotal: 10.4s\tremaining: 1.6s\n",
            "130:\ttest: 0.9669118\tbest: 0.9669118 (92)\ttotal: 10.5s\tremaining: 1.52s\n",
            "131:\ttest: 0.9669118\tbest: 0.9669118 (92)\ttotal: 10.5s\tremaining: 1.44s\n",
            "132:\ttest: 0.9669118\tbest: 0.9669118 (92)\ttotal: 10.6s\tremaining: 1.35s\n",
            "133:\ttest: 0.9669118\tbest: 0.9669118 (92)\ttotal: 10.7s\tremaining: 1.27s\n",
            "134:\ttest: 0.9669118\tbest: 0.9669118 (92)\ttotal: 10.7s\tremaining: 1.19s\n",
            "135:\ttest: 0.9669118\tbest: 0.9669118 (92)\ttotal: 10.8s\tremaining: 1.11s\n",
            "136:\ttest: 0.9669118\tbest: 0.9669118 (92)\ttotal: 10.9s\tremaining: 1.03s\n",
            "137:\ttest: 0.9669118\tbest: 0.9669118 (92)\ttotal: 10.9s\tremaining: 952ms\n",
            "138:\ttest: 0.9669118\tbest: 0.9669118 (92)\ttotal: 11s\tremaining: 872ms\n",
            "139:\ttest: 0.9669118\tbest: 0.9669118 (92)\ttotal: 11.1s\tremaining: 792ms\n",
            "140:\ttest: 0.9669118\tbest: 0.9669118 (92)\ttotal: 11.2s\tremaining: 712ms\n",
            "141:\ttest: 0.9669118\tbest: 0.9669118 (92)\ttotal: 11.2s\tremaining: 632ms\n",
            "142:\ttest: 0.9705882\tbest: 0.9705882 (142)\ttotal: 11.3s\tremaining: 553ms\n",
            "143:\ttest: 0.9705882\tbest: 0.9705882 (142)\ttotal: 11.4s\tremaining: 473ms\n",
            "144:\ttest: 0.9705882\tbest: 0.9705882 (142)\ttotal: 11.4s\tremaining: 394ms\n",
            "145:\ttest: 0.9705882\tbest: 0.9705882 (142)\ttotal: 11.5s\tremaining: 315ms\n",
            "146:\ttest: 0.9705882\tbest: 0.9705882 (142)\ttotal: 11.6s\tremaining: 236ms\n",
            "147:\ttest: 0.9705882\tbest: 0.9705882 (142)\ttotal: 11.6s\tremaining: 157ms\n",
            "148:\ttest: 0.9705882\tbest: 0.9705882 (142)\ttotal: 11.7s\tremaining: 78.5ms\n",
            "149:\ttest: 0.9705882\tbest: 0.9705882 (142)\ttotal: 11.8s\tremaining: 0us\n",
            "\n",
            "bestTest = 0.9705882353\n",
            "bestIteration = 142\n",
            "\n",
            "Shrink model to first 143 iterations.\n"
          ]
        },
        {
          "output_type": "execute_result",
          "data": {
            "text/plain": [
              "<catboost.core.CatBoostClassifier at 0x7f51611e4c50>"
            ]
          },
          "metadata": {},
          "execution_count": 17
        }
      ]
    },
    {
      "cell_type": "code",
      "source": [
        "sorted([i for i in zip(model.feature_importances_, model.feature_names_) if i[0] > 0], reverse=True)"
      ],
      "metadata": {
        "colab": {
          "base_uri": "https://localhost:8080/"
        },
        "id": "eN_83a0XGLD-",
        "outputId": "d441a547-69b7-4a52-a2c4-47237cc7eb8f"
      },
      "execution_count": 18,
      "outputs": [
        {
          "output_type": "execute_result",
          "data": {
            "text/plain": [
              "[(5.984306631290949, 'week_lk_events_log_lk_events_log_std'),\n",
              " (4.453639363934113, 'dayofyear_lk_events_log_lk_events_log_max'),\n",
              " (2.3397685352549646, 'week_lk_events_log_lk_events_log_max'),\n",
              " (2.261974446623041, 'quarter_lk_events_log_lk_events_log_var'),\n",
              " (2.1060044819022554, '22_lk_events_log_tfidf_lk_events_log_min'),\n",
              " (1.9606636694988449, '61_ev_lk_events_log_min'),\n",
              " (1.9103267594253421, 'days_in_month_lk_events_log_lk_events_log_mean'),\n",
              " (1.869285933435666, 'dayofyear_lk_events_log_lk_events_log_var'),\n",
              " (1.5730851241162984, '44_events_log_tfidf_events_log_max'),\n",
              " (1.4663519110577559, '41_ev_lk_events_log_median'),\n",
              " (1.46568126679422, 'quarter_lk_events_log_lk_events_log_max'),\n",
              " (1.2977713997049323, '44_events_log_tfidf_events_log_median'),\n",
              " (1.2491181989353735, '94_ev_lk_events_log_max'),\n",
              " (1.0860598149258995, '22_lk_events_log_tfidf_lk_events_log_max'),\n",
              " (1.0725769874917719, '57_ev_lk_events_log_median'),\n",
              " (1.0461228059913852, '17_lk_events_log_tfidf_lk_events_log_max'),\n",
              " (1.021641489834983, '51_ev_lk_events_log_median'),\n",
              " (1.0200523706361193, '79_ev_lk_events_log_mean'),\n",
              " (0.9849452828103205, '23_events_log_tfidf_events_log_mean'),\n",
              " (0.973400568960116, '90_ev_lk_events_log_median'),\n",
              " (0.9667057174270012, 'dayofyear_events_log_events_log_max'),\n",
              " (0.9555365628509677, 'dayofyear_lk_events_log_lk_events_log_std'),\n",
              " (0.9426850056793759, '85_ev_lk_events_log_median'),\n",
              " (0.9050585984446637, '95_ev_lk_events_log_min'),\n",
              " (0.8639580980172408, '23_events_log_tfidf_events_log_max'),\n",
              " (0.8393173981822867, '19_ev_events_log_max'),\n",
              " (0.8252912726951112, '44_ev_lk_events_log_max'),\n",
              " (0.8117539352423901, 'dayofyear_lk_events_log_lk_events_log_mean'),\n",
              " (0.8009742420584497, 'event_type_diff_lk_events_log_mean'),\n",
              " (0.7849597645421029, '7_ev_lk_events_log_median'),\n",
              " (0.7650227333978624, 'hour_events_log_events_log_max'),\n",
              " (0.7455586056260567, '18_events_log_tfidf_events_log_median'),\n",
              " (0.7301681765830415, '7_ev_lk_events_log_max'),\n",
              " (0.7107244081105075, '64_ev_lk_events_log_median'),\n",
              " (0.7091187664717599, '30_lk_events_log_tfidf_lk_events_log_min'),\n",
              " (0.7069174119912994, '73_ev_lk_events_log_median'),\n",
              " (0.6686534172989121, 'month_events_log_events_log_var'),\n",
              " (0.6652475436234275, '44_events_log_tfidf_events_log_mean'),\n",
              " (0.6284939561379118, '52_ev_events_log_mean'),\n",
              " (0.6191749750481649, '73_ev_events_log_max'),\n",
              " (0.607168619186387, 'day_or_month_contract'),\n",
              " (0.5946842344099678, '73_ev_events_log_mean'),\n",
              " (0.5805260803329116, '35_lk_events_log_tfidf_lk_events_log_min'),\n",
              " (0.580267492534797, '39_ev_lk_events_log_min'),\n",
              " (0.5765319809704283, '46_events_log_tfidf_events_log_median'),\n",
              " (0.5735732299464349, '9_ev_events_log_mean'),\n",
              " (0.5718881099382815, '23_events_log_tfidf_events_log_min'),\n",
              " (0.5698366387871312, '28_events_log_tfidf_events_log_median'),\n",
              " (0.5571282535512065, '43_ev_events_log_mean'),\n",
              " (0.5544845952911766, '81_ev_events_log_median'),\n",
              " (0.5463254239919428, '49_events_log_tfidf_events_log_min'),\n",
              " (0.5459014602413775, '19_ev_events_log_min'),\n",
              " (0.5287376516127087, 'month_lk_events_log_lk_events_log_std'),\n",
              " (0.5253071801799505, '52_ev_events_log_min'),\n",
              " (0.5120801641844092, '28_events_log_tfidf_events_log_min'),\n",
              " (0.49795101156409766, '32_events_log_tfidf_events_log_max'),\n",
              " (0.4910209054821135, '39_ev_lk_events_log_mean'),\n",
              " (0.4807528677723272, '64_events_log_tfidf_events_log_median'),\n",
              " (0.4707765344685646, 'week_lk_events_log_lk_events_log_var'),\n",
              " (0.4680493065782738, '17_lk_events_log_tfidf_lk_events_log_min'),\n",
              " (0.46527196215894073, '46_events_log_tfidf_events_log_min'),\n",
              " (0.4606985168257954, 'month_lk_events_log_lk_events_log_median'),\n",
              " (0.4531941471221424, '85_ev_events_log_median'),\n",
              " (0.4336583065981079, 'minute_lk_events_log_lk_events_log_max'),\n",
              " (0.42664816486657703, 'quarter_events_log_events_log_std'),\n",
              " (0.42315669897461944, '18_events_log_tfidf_events_log_std'),\n",
              " (0.42281981983067873, '63_ev_lk_events_log_mean'),\n",
              " (0.3829050245733943, '64_events_log_tfidf_events_log_mean'),\n",
              " (0.3754131432835146, '90_ev_lk_events_log_min'),\n",
              " (0.37281609627628, '80_ev_events_log_min'),\n",
              " (0.3697989021824401, 'minute_events_log_events_log_mean'),\n",
              " (0.3623301406533958, 'dayofyear_lk_events_log_lk_events_log_min'),\n",
              " (0.3528565053263363, '35_lk_events_log_tfidf_lk_events_log_median'),\n",
              " (0.34717959022892747, '69_ev_events_log_min'),\n",
              " (0.3432392493179212, 'week_lk_events_log_lk_events_log_mean'),\n",
              " (0.33284067133360873, '30_lk_events_log_tfidf_lk_events_log_max'),\n",
              " (0.3325957768462914, 'week_events_log_events_log_var'),\n",
              " (0.3296076656472399, '85_ev_events_log_min'),\n",
              " (0.32788488988446424, '17_lk_events_log_tfidf_lk_events_log_mean'),\n",
              " (0.32779887127139634, 'days_in_month_events_log_events_log_var'),\n",
              " (0.3265634214303292, '82_ev_lk_events_log_median'),\n",
              " (0.3251700114171683, '24_ev_lk_events_log_median'),\n",
              " (0.32413290353279317, 'hour_lk_events_log_lk_events_log_median'),\n",
              " (0.3178910710373283, '70_ev_events_log_mean'),\n",
              " (0.3152220156952571, '47_ev_events_log_min'),\n",
              " (0.31428524487013126, '97_ev_lk_events_log_min'),\n",
              " (0.3108174370338814, 'week_events_log_events_log_std'),\n",
              " (0.3039842681600939, '71_ev_lk_events_log_mean'),\n",
              " (0.30373389605793866, '32_events_log_tfidf_events_log_mean'),\n",
              " (0.3034292697100138, 'days_in_month_lk_events_log_lk_events_log_var'),\n",
              " (0.3021499303349682, 'hour_events_log_events_log_min'),\n",
              " (0.29995419324393263, '86_ev_events_log_median'),\n",
              " (0.29919503294674116, '98_ev_events_log_max'),\n",
              " (0.29747704862268587, '48_events_log_tfidf_events_log_mean'),\n",
              " (0.2936937169107206, 'minute_events_log_events_log_max'),\n",
              " (0.28423504145304, '97_ev_lk_events_log_mean'),\n",
              " (0.28185137192207466, '47_ev_events_log_median'),\n",
              " (0.2815400952612079, '29_ev_lk_events_log_std'),\n",
              " (0.280147653097495, '46_events_log_tfidf_events_log_mean'),\n",
              " (0.2719637349290466, '16_ev_lk_events_log_max'),\n",
              " (0.26812767147336586, '62_ev_lk_events_log_min'),\n",
              " (0.2667054843396918, 'hour_events_log_events_log_var'),\n",
              " (0.2665483986439338, 'hour_lk_events_log_lk_events_log_var'),\n",
              " (0.2633442892365629, '2_ev_events_log_min'),\n",
              " (0.2562874781525555, '47_ev_events_log_mean'),\n",
              " (0.2527224886589178, '61_ev_events_log_median'),\n",
              " (0.25034502976225986, '16_ev_events_log_mean'),\n",
              " (0.24829171626228103, 'event_type_len_events_log_median'),\n",
              " (0.24827628856474276, '9_ev_events_log_median'),\n",
              " (0.2452413340966356, '63_events_log_tfidf_events_log_min'),\n",
              " (0.24483557861114733, '81_ev_events_log_max'),\n",
              " (0.2445606157637902, '7_ev_events_log_mean'),\n",
              " (0.23988384397241022, '68_ev_lk_events_log_min'),\n",
              " (0.23716359610853, '48_events_log_tfidf_events_log_median'),\n",
              " (0.23693325503534485, '72_ev_events_log_max'),\n",
              " (0.23237289902616814, 'hour_events_log_events_log_median'),\n",
              " (0.2319684071487835, '7_ev_lk_events_log_min'),\n",
              " (0.23016778209083327, '37_ev_lk_events_log_mean'),\n",
              " (0.23008335858401258, '28_events_log_tfidf_events_log_max'),\n",
              " (0.22962980752150466, 'day_lk_events_log_lk_events_log_mean'),\n",
              " (0.21932184683885775, '75_ev_lk_events_log_max'),\n",
              " (0.21777712890641854, '30_ev_lk_events_log_min'),\n",
              " (0.21614249192299448, '51_ev_lk_events_log_min'),\n",
              " (0.21588194048824666, '8_ev_lk_events_log_var'),\n",
              " (0.21101060456929457, '8_ev_events_log_max'),\n",
              " (0.209707655993451, 'minute_events_log_events_log_min'),\n",
              " (0.20919172296960828, '9_ev_lk_events_log_max'),\n",
              " (0.20702219142087147, '34_lk_events_log_tfidf_lk_events_log_mean'),\n",
              " (0.20542221376005032, '20_ev_events_log_max'),\n",
              " (0.1990093037033968, 'quarter_events_log_events_log_max'),\n",
              " (0.19835533249341494, '49_ev_events_log_median'),\n",
              " (0.19501010749808473, '47_ev_events_log_max'),\n",
              " (0.19466578127467604, '82_ev_events_log_mean'),\n",
              " (0.19316979481184413, '42_ev_events_log_min'),\n",
              " (0.18666453399916935, '65_events_log_tfidf_events_log_mean'),\n",
              " (0.18552903340146717, 'minute_events_log_events_log_std'),\n",
              " (0.1847553765692376, 'event_type_diff_lk_events_log_min'),\n",
              " (0.1840330493396323, '41_ev_events_log_mean'),\n",
              " (0.18374820860541807, '41_lk_events_log_tfidf_lk_events_log_max'),\n",
              " (0.18353468063161954, '22_ev_events_log_max'),\n",
              " (0.1826786823835808, '34_lk_events_log_tfidf_lk_events_log_min'),\n",
              " (0.1811806961225911, '62_ev_lk_events_log_median'),\n",
              " (0.18113321982227226, '55_events_log_tfidf_events_log_min'),\n",
              " (0.17847892984799318, '82_ev_events_log_min'),\n",
              " (0.1767692070762688, '91_ev_events_log_mean'),\n",
              " (0.1765111160006585, '67_ev_events_log_max'),\n",
              " (0.17417675892452147, 'hour_lk_events_log_lk_events_log_max'),\n",
              " (0.17102830660670912, 'minute_lk_events_log_lk_events_log_median'),\n",
              " (0.1703636071529734, '31_events_log_tfidf_events_log_max'),\n",
              " (0.1691057253112812, '73_ev_events_log_min'),\n",
              " (0.16905009066051954, '36_ev_lk_events_log_median'),\n",
              " (0.1677966167730755, '79_ev_events_log_min'),\n",
              " (0.1664976827631729, '96_ev_lk_events_log_median'),\n",
              " (0.16577532871058298, '72_ev_events_log_min'),\n",
              " (0.16545241532021027, 'day_lk_events_log_lk_events_log_min'),\n",
              " (0.16424452014480867, '20_ev_events_log_min'),\n",
              " (0.16414662466524724, 'quarter_events_log_events_log_mean'),\n",
              " (0.16292726622266307, '14_ev_lk_events_log_median'),\n",
              " (0.16161900396664125, 'minute_events_log_events_log_median'),\n",
              " (0.1610294362471904, 'hour_events_log_events_log_mean'),\n",
              " (0.15804984622968485, '57_ev_lk_events_log_mean'),\n",
              " (0.15635581530839623, '56_events_log_tfidf_events_log_mean'),\n",
              " (0.1542925956380045, '46_events_log_tfidf_events_log_max'),\n",
              " (0.14930150204229292, '35_lk_events_log_tfidf_lk_events_log_max'),\n",
              " (0.1482506751488385, '31_events_log_tfidf_events_log_mean'),\n",
              " (0.14814255989444963, '26_ev_events_log_min'),\n",
              " (0.14682878274066125, '20_ev_lk_events_log_mean'),\n",
              " (0.1443480541423579, '22_ev_lk_events_log_min'),\n",
              " (0.1430024020330147, 'dayofyear_lk_events_log_lk_events_log_median'),\n",
              " (0.14283516104970098, '29_ev_lk_events_log_mean'),\n",
              " (0.14236845394963277, '26_ev_lk_events_log_median'),\n",
              " (0.14215651811441257, '36_ev_lk_events_log_max'),\n",
              " (0.14148679716842033, '43_ev_events_log_max'),\n",
              " (0.13733112267728373, 'days_in_month_events_log_events_log_std'),\n",
              " (0.1366711440558371, '21_ev_lk_events_log_max'),\n",
              " (0.13529099806350112, '14_ev_lk_events_log_max'),\n",
              " (0.13502592595889307, '80_ev_events_log_median'),\n",
              " (0.13327657032937115, '73_ev_events_log_median'),\n",
              " (0.13000625738817018, 'day_events_log_events_log_median'),\n",
              " (0.12841629828616058, 'day_events_log_events_log_mean'),\n",
              " (0.12814832357152028, '35_lk_events_log_tfidf_lk_events_log_mean'),\n",
              " (0.12768146150715076, '6_ev_lk_events_log_max'),\n",
              " (0.12727471450856098, '36_ev_events_log_mean'),\n",
              " (0.12679702687661693, '87_ev_lk_events_log_mean'),\n",
              " (0.12646656658903294, '39_ev_events_log_max'),\n",
              " (0.12562786651064212, '18_ev_lk_events_log_max'),\n",
              " (0.12432946918214793, '91_ev_lk_events_log_mean'),\n",
              " (0.12234314918013142, '93_ev_lk_events_log_mean'),\n",
              " (0.11910947649706732, '12_ev_lk_events_log_mean'),\n",
              " (0.11793955623971757, '12_lk_events_log_tfidf_lk_events_log_max'),\n",
              " (0.11775911102181559, '91_ev_events_log_min'),\n",
              " (0.11602381063383332, 'week_events_log_events_log_max'),\n",
              " (0.11457524062620514, 'day_events_log_events_log_std'),\n",
              " (0.1138481746269611, '37_ev_events_log_max'),\n",
              " (0.11314243411946438, '21_ev_lk_events_log_median'),\n",
              " (0.11129726982534278, '49_ev_lk_events_log_mean'),\n",
              " (0.10926583093866851, '71_ev_lk_events_log_min'),\n",
              " (0.10899365423253678, '16_ev_events_log_max'),\n",
              " (0.10839428948766698, '27_ev_lk_events_log_max'),\n",
              " (0.10818935006780986, '51_ev_events_log_min'),\n",
              " (0.1056114784102352, '86_ev_lk_events_log_median'),\n",
              " (0.10547993222347345, '34_ev_lk_events_log_min'),\n",
              " (0.10421946484179509, '55_ev_lk_events_log_max'),\n",
              " (0.10159033393272528, '5_ev_lk_events_log_mean'),\n",
              " (0.10095356229281112, '75_ev_lk_events_log_min'),\n",
              " (0.09923752660920153, '49_ev_events_log_min'),\n",
              " (0.09834555207228214, '39_ev_events_log_var'),\n",
              " (0.09778110818833718, '88_ev_events_log_mean'),\n",
              " (0.09653828016645576, 'minute_events_log_events_log_var'),\n",
              " (0.09590621540208039, '25_events_log_tfidf_events_log_max'),\n",
              " (0.09468201044147923, 'days_in_month_lk_events_log_lk_events_log_std'),\n",
              " (0.09274827378122115, '30_lk_events_log_tfidf_lk_events_log_mean'),\n",
              " (0.09245805342483913, '9_ev_lk_events_log_median'),\n",
              " (0.09097415784236679, '94_ev_events_log_max'),\n",
              " (0.08748372001355718, '8_ev_lk_events_log_median'),\n",
              " (0.08669670629132659, 'week_events_log_events_log_mean'),\n",
              " (0.085299221665856, '44_ev_events_log_mean'),\n",
              " (0.08440213920645334, '73_ev_lk_events_log_min'),\n",
              " (0.08293421271586503, '29_ev_events_log_min'),\n",
              " (0.0824354321425597, '33_ev_events_log_median'),\n",
              " (0.08204831060022286, '59_ev_lk_events_log_max'),\n",
              " (0.08199233661519618, '21_ev_lk_events_log_min'),\n",
              " (0.08000519059300114, '99_ev_events_log_median'),\n",
              " (0.07695608999664542, '1_ev_lk_events_log_max'),\n",
              " (0.07619554224158212, '25_events_log_tfidf_events_log_min'),\n",
              " (0.07578769232570341, '52_ev_lk_events_log_mean'),\n",
              " (0.07576280343065145, '59_ev_events_log_min'),\n",
              " (0.07551933705688249, 'hour_lk_events_log_lk_events_log_mean'),\n",
              " (0.07502761510275224, '7_ev_events_log_min'),\n",
              " (0.07479343594417741, '24_ev_events_log_max'),\n",
              " (0.07445654903103795, '11_ev_events_log_max'),\n",
              " (0.07383303006156229, '56_events_log_tfidf_events_log_min'),\n",
              " (0.07115840914517835, '50_ev_lk_events_log_median'),\n",
              " (0.07025083114811725, '62_ev_events_log_mean'),\n",
              " (0.07017612384621096, '76_ev_events_log_median'),\n",
              " (0.06996397215961758, '9_ev_lk_events_log_min'),\n",
              " (0.06952320854186735, '28_ev_events_log_median'),\n",
              " (0.06884058993433756, '8_ev_lk_events_log_max'),\n",
              " (0.06801844370487305, '35_ev_lk_events_log_min'),\n",
              " (0.06763332329261679, '6_ev_events_log_mean'),\n",
              " (0.06586225777515621, '36_events_log_tfidf_events_log_max'),\n",
              " (0.06555871157772214, '59_ev_events_log_median'),\n",
              " (0.06468569410046945, '59_events_log_tfidf_events_log_mean'),\n",
              " (0.06440958837755457, '14_ev_events_log_median'),\n",
              " (0.062130062443419246, '52_ev_lk_events_log_median'),\n",
              " (0.06060409343922924, '64_ev_lk_events_log_min'),\n",
              " (0.060418084523657684, '57_ev_events_log_mean'),\n",
              " (0.05987352281891762, 'hour_lk_events_log_lk_events_log_std'),\n",
              " (0.05777518422471274, '68_ev_lk_events_log_median'),\n",
              " (0.056587643545333875, '14_ev_events_log_max'),\n",
              " (0.05642046135565287, '36_events_log_tfidf_events_log_median'),\n",
              " (0.05560174097478855, '44_events_log_tfidf_events_log_min'),\n",
              " (0.052149008913553334, '32_events_log_tfidf_events_log_median'),\n",
              " (0.051342165361428306, '18_ev_events_log_max'),\n",
              " (0.050235702141887044, '93_ev_lk_events_log_max'),\n",
              " (0.047298549163138026, '57_ev_lk_events_log_min'),\n",
              " (0.04726527390245798, '18_ev_lk_events_log_mean'),\n",
              " (0.047089028044537115, '36_ev_events_log_min'),\n",
              " (0.046287789302678475, 'event_type_len_lk_events_log_max'),\n",
              " (0.044121827383038374, '13_events_log_tfidf_events_log_max'),\n",
              " (0.04407850283853252, '57_ev_lk_events_log_max'),\n",
              " (0.043188013132586245, '36_lk_events_log_tfidf_lk_events_log_max'),\n",
              " (0.04208390754494477, '26_events_log_tfidf_events_log_min'),\n",
              " (0.03982650562902569, '99_ev_lk_events_log_mean'),\n",
              " (0.039011994910271006, '48_ev_events_log_max'),\n",
              " (0.038504107964548034, '65_events_log_tfidf_events_log_median'),\n",
              " (0.03455326156506712, '14_ev_events_log_mean'),\n",
              " (0.03322962838152155, '85_ev_events_log_mean'),\n",
              " (0.030676888068720903, '11_ev_events_log_mean'),\n",
              " (0.029651937342088413, 'event_type_set_lk_events_log_max'),\n",
              " (0.02857326221153823, '13_lk_events_log_tfidf_lk_events_log_mean'),\n",
              " (0.028362564211673644, '59_ev_events_log_max'),\n",
              " (0.02586826607682791, '34_ev_lk_events_log_median'),\n",
              " (0.0254209836862294, '93_ev_events_log_mean'),\n",
              " (0.021934275134914204, '60_events_log_tfidf_events_log_max'),\n",
              " (0.021364233978976327, '6_ev_lk_events_log_mean'),\n",
              " (0.021012377936739872, '23_ev_lk_events_log_mean'),\n",
              " (0.020761770073675828, 'event_type_set_lk_events_log_min'),\n",
              " (0.017634270971159036, '18_events_log_tfidf_events_log_mean'),\n",
              " (0.014507032513121961, '22_events_log_tfidf_events_log_max'),\n",
              " (0.012910041518000995, '26_events_log_tfidf_events_log_var'),\n",
              " (0.010109070535864365, 'hour_events_log_events_log_std'),\n",
              " (0.00878615393822855, '18_events_log_tfidf_events_log_min'),\n",
              " (0.008137245223936041, 'event_type_len_lk_events_log_min'),\n",
              " (0.007395238699086304, '25_lk_events_log_tfidf_lk_events_log_median'),\n",
              " (0.006832590075360039, '25_lk_events_log_tfidf_lk_events_log_min'),\n",
              " (0.006555739774803156, '58_events_log_tfidf_events_log_max'),\n",
              " (0.004300842873516731, '25_lk_events_log_tfidf_lk_events_log_max')]"
            ]
          },
          "metadata": {},
          "execution_count": 18
        }
      ]
    },
    {
      "cell_type": "code",
      "source": [
        "len([i[1] for i in zip(model.feature_importances_, model.feature_names_) if i[0] > 0])"
      ],
      "metadata": {
        "colab": {
          "base_uri": "https://localhost:8080/"
        },
        "id": "Fi_5ZG_DH_zr",
        "outputId": "90b0403b-c54d-4302-ef7f-87761d09ec0f"
      },
      "execution_count": 19,
      "outputs": [
        {
          "output_type": "execute_result",
          "data": {
            "text/plain": [
              "288"
            ]
          },
          "metadata": {},
          "execution_count": 19
        }
      ]
    },
    {
      "cell_type": "code",
      "source": [
        "golden_features = [i[1] for i in zip(model.feature_importances_, model.feature_names_) if i[0] > 0]"
      ],
      "metadata": {
        "id": "xFxdaPSQHjCg"
      },
      "execution_count": 20,
      "outputs": []
    },
    {
      "cell_type": "code",
      "source": [
        "def bootstrap(y_true, y_pred, num, count, random_state=42):\n",
        "    y_true = y_true.reset_index(drop=True)\n",
        "    indexes = y_true.index\n",
        "    results = []\n",
        "    np.random.seed(random_state)\n",
        "    for _ in range(num):\n",
        "        indexes_slice = np.random.choice(indexes, count, replace=False)\n",
        "        results.append(roc_auc_score(y_true[indexes_slice],\n",
        "                                     y_pred[indexes_slice]))\n",
        "    return results"
      ],
      "metadata": {
        "id": "wK0ygJHXI9Rp"
      },
      "execution_count": 21,
      "outputs": []
    },
    {
      "cell_type": "code",
      "source": [
        "len(y_test)"
      ],
      "metadata": {
        "colab": {
          "base_uri": "https://localhost:8080/"
        },
        "id": "g6tmUcoUezsU",
        "outputId": "565ef2ae-09f8-43ad-c548-d4cc33aa98b2"
      },
      "execution_count": 22,
      "outputs": [
        {
          "output_type": "execute_result",
          "data": {
            "text/plain": [
              "42"
            ]
          },
          "metadata": {},
          "execution_count": 22
        }
      ]
    },
    {
      "cell_type": "code",
      "source": [
        "result = bootstrap(y_test, model.predict_proba(X_test)[:, 1], 100, 30, random_state=43)"
      ],
      "metadata": {
        "id": "A6rp07VdKDh3"
      },
      "execution_count": 23,
      "outputs": []
    },
    {
      "cell_type": "code",
      "source": [
        "plt.hist(result, bins=30)"
      ],
      "metadata": {
        "colab": {
          "base_uri": "https://localhost:8080/",
          "height": 450
        },
        "id": "WN0C44kjTXK6",
        "outputId": "3f38886d-9647-483e-b940-6b0ff40d790e"
      },
      "execution_count": 24,
      "outputs": [
        {
          "output_type": "execute_result",
          "data": {
            "text/plain": [
              "(array([ 1.,  0.,  0.,  0.,  0.,  0.,  0.,  0.,  1.,  0.,  2.,  0.,  1.,\n",
              "         6.,  3.,  3.,  8., 10.,  6.,  2.,  9., 12.,  5.,  6.,  4.,  8.,\n",
              "         3.,  7.,  0.,  3.]),\n",
              " array([0.91358025, 0.91646091, 0.91934156, 0.92222222, 0.92510288,\n",
              "        0.92798354, 0.9308642 , 0.93374486, 0.93662551, 0.93950617,\n",
              "        0.94238683, 0.94526749, 0.94814815, 0.95102881, 0.95390947,\n",
              "        0.95679012, 0.95967078, 0.96255144, 0.9654321 , 0.96831276,\n",
              "        0.97119342, 0.97407407, 0.97695473, 0.97983539, 0.98271605,\n",
              "        0.98559671, 0.98847737, 0.99135802, 0.99423868, 0.99711934,\n",
              "        1.        ]),\n",
              " <a list of 30 Patch objects>)"
            ]
          },
          "metadata": {},
          "execution_count": 24
        },
        {
          "output_type": "display_data",
          "data": {
            "image/png": "[encoded data removed]",
            "text/plain": [
              "<Figure size 432x288 with 1 Axes>"
            ]
          },
          "metadata": {
            "needs_background": "light"
          }
        }
      ]
    },
    {
      "cell_type": "code",
      "source": [
        "test = pd.read_csv(\"test.csv\").drop([\"blocked\"], axis=1)\n",
        "source = test[\"contract_id\"].to_list()\n",
        "test = test.merge(all_users, on=\"contract_id\", how=\"left\").drop_duplicates()\n",
        "source2 = test[\"contract_id\"].to_list()"
      ],
      "metadata": {
        "id": "qUEGqdQJl826"
      },
      "execution_count": 25,
      "outputs": []
    },
    {
      "cell_type": "code",
      "source": [
        "test = test.merge(lk_events_log, on=\"contract_id\", how=\"left\")\\\n",
        "                    .merge(events_log, on=\"contract_id\", how=\"left\")\\\n",
        "                    .drop([\"contract_id\"], axis=1)"
      ],
      "metadata": {
        "id": "3fM3dOlSmqyO"
      },
      "execution_count": 26,
      "outputs": []
    },
    {
      "cell_type": "code",
      "source": [
        "test = test.astype(np.float32)"
      ],
      "metadata": {
        "id": "7hopMvePnXzP"
      },
      "execution_count": 27,
      "outputs": []
    },
    {
      "cell_type": "code",
      "source": [
        "predictions = model.predict_proba(test)[:, 1]"
      ],
      "metadata": {
        "id": "tsW7WorbnUWX"
      },
      "execution_count": 28,
      "outputs": []
    },
    {
      "cell_type": "code",
      "source": [
        "temp = dict(zip(source2, predictions))"
      ],
      "metadata": {
        "id": "tCs_XOLcouIP"
      },
      "execution_count": 29,
      "outputs": []
    },
    {
      "cell_type": "code",
      "source": [
        "result = pd.DataFrame({\"contract_id\": source,\n",
        "                       \"blocked\": [temp[i] for i in source]})"
      ],
      "metadata": {
        "id": "4oVcsmqensO1"
      },
      "execution_count": 30,
      "outputs": []
    },
    {
      "cell_type": "code",
      "source": [
        "result.to_csv(\"sub.csv\", index=False)"
      ],
      "metadata": {
        "id": "22Bghv5cpYlx"
      },
      "execution_count": 31,
      "outputs": []
    },
    {
      "cell_type": "code",
      "source": [
        "model.save_model(\"catboost.cbm\")"
      ],
      "metadata": {
        "id": "6P8AjFXvqJpI"
      },
      "execution_count": 32,
      "outputs": []
    }
  ]
}